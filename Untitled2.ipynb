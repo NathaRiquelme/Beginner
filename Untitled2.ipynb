{
  "nbformat": 4,
  "nbformat_minor": 0,
  "metadata": {
    "colab": {
      "provenance": [],
      "authorship_tag": "ABX9TyMFUQ24/jCo9vsqtIwlilAt",
      "include_colab_link": true
    },
    "kernelspec": {
      "name": "python3",
      "display_name": "Python 3"
    },
    "language_info": {
      "name": "python"
    }
  },
  "cells": [
    {
      "cell_type": "markdown",
      "metadata": {
        "id": "view-in-github",
        "colab_type": "text"
      },
      "source": [
        "<a href=\"https://colab.research.google.com/github/NathaRiquelme/Beginner/blob/main/Untitled2.ipynb\" target=\"_parent\"><img src=\"https://colab.research.google.com/assets/colab-badge.svg\" alt=\"Open In Colab\"/></a>"
      ]
    },
    {
      "cell_type": "code",
      "execution_count": 6,
      "metadata": {
        "id": "vGSQWwBqitpC"
      },
      "outputs": [],
      "source": [
        "# Import libraries\n",
        "import pandas as pd"
      ]
    },
    {
      "cell_type": "code",
      "source": [
        "# Read dataset into a pandas DataFrame\n",
        "df = pd.read_csv(\"test.csv\")"
      ],
      "metadata": {
        "id": "SATGv9Y3uh9a"
      },
      "execution_count": 7,
      "outputs": []
    },
    {
      "cell_type": "code",
      "source": [
        "# Generate summary statistics using the describe() function\n",
        "summary_stats = df.describe()\n",
        "print(summary_stats)"
      ],
      "metadata": {
        "colab": {
          "base_uri": "https://localhost:8080/"
        },
        "id": "50ZFyha8u6cV",
        "outputId": "697a81e1-be6f-48fe-a549-f626fd7ac5dc"
      },
      "execution_count": 8,
      "outputs": [
        {
          "output_type": "stream",
          "name": "stdout",
          "text": [
            "                Id   MSSubClass  LotFrontage       LotArea  OverallQual  \\\n",
            "count  1459.000000  1459.000000  1232.000000   1459.000000  1459.000000   \n",
            "mean   2190.000000    57.378341    68.580357   9819.161069     6.078821   \n",
            "std     421.321334    42.746880    22.376841   4955.517327     1.436812   \n",
            "min    1461.000000    20.000000    21.000000   1470.000000     1.000000   \n",
            "25%    1825.500000    20.000000    58.000000   7391.000000     5.000000   \n",
            "50%    2190.000000    50.000000    67.000000   9399.000000     6.000000   \n",
            "75%    2554.500000    70.000000    80.000000  11517.500000     7.000000   \n",
            "max    2919.000000   190.000000   200.000000  56600.000000    10.000000   \n",
            "\n",
            "       OverallCond    YearBuilt  YearRemodAdd   MasVnrArea   BsmtFinSF1  ...  \\\n",
            "count  1459.000000  1459.000000   1459.000000  1444.000000  1458.000000  ...   \n",
            "mean      5.553804  1971.357779   1983.662783   100.709141   439.203704  ...   \n",
            "std       1.113740    30.390071     21.130467   177.625900   455.268042  ...   \n",
            "min       1.000000  1879.000000   1950.000000     0.000000     0.000000  ...   \n",
            "25%       5.000000  1953.000000   1963.000000     0.000000     0.000000  ...   \n",
            "50%       5.000000  1973.000000   1992.000000     0.000000   350.500000  ...   \n",
            "75%       6.000000  2001.000000   2004.000000   164.000000   753.500000  ...   \n",
            "max       9.000000  2010.000000   2010.000000  1290.000000  4010.000000  ...   \n",
            "\n",
            "        GarageArea   WoodDeckSF  OpenPorchSF  EnclosedPorch    3SsnPorch  \\\n",
            "count  1458.000000  1459.000000  1459.000000    1459.000000  1459.000000   \n",
            "mean    472.768861    93.174777    48.313914      24.243317     1.794380   \n",
            "std     217.048611   127.744882    68.883364      67.227765    20.207842   \n",
            "min       0.000000     0.000000     0.000000       0.000000     0.000000   \n",
            "25%     318.000000     0.000000     0.000000       0.000000     0.000000   \n",
            "50%     480.000000     0.000000    28.000000       0.000000     0.000000   \n",
            "75%     576.000000   168.000000    72.000000       0.000000     0.000000   \n",
            "max    1488.000000  1424.000000   742.000000    1012.000000   360.000000   \n",
            "\n",
            "       ScreenPorch     PoolArea       MiscVal       MoSold       YrSold  \n",
            "count  1459.000000  1459.000000   1459.000000  1459.000000  1459.000000  \n",
            "mean     17.064428     1.744345     58.167923     6.104181  2007.769705  \n",
            "std      56.609763    30.491646    630.806978     2.722432     1.301740  \n",
            "min       0.000000     0.000000      0.000000     1.000000  2006.000000  \n",
            "25%       0.000000     0.000000      0.000000     4.000000  2007.000000  \n",
            "50%       0.000000     0.000000      0.000000     6.000000  2008.000000  \n",
            "75%       0.000000     0.000000      0.000000     8.000000  2009.000000  \n",
            "max     576.000000   800.000000  17000.000000    12.000000  2010.000000  \n",
            "\n",
            "[8 rows x 37 columns]\n"
          ]
        }
      ]
    },
    {
      "cell_type": "code",
      "source": [
        "# Identify missing values\n",
        "'''To identify missing values in the dataset, you can use the isnull() function to create a Boolean DataFrame that indicates True for missing values and False otherwise. Then, you can use the sum() function to calculate the total number of missing values for each column'''\n",
        "missing_values = df.isnull().sum()\n",
        "print(missing_values)"
      ],
      "metadata": {
        "colab": {
          "base_uri": "https://localhost:8080/"
        },
        "id": "mmX57PM3vf1v",
        "outputId": "df195d7a-b83d-4d31-b77b-943a6923af89"
      },
      "execution_count": 14,
      "outputs": [
        {
          "output_type": "stream",
          "name": "stdout",
          "text": [
            "Id                 0\n",
            "MSSubClass         0\n",
            "MSZoning           4\n",
            "LotFrontage      227\n",
            "LotArea            0\n",
            "                ... \n",
            "MiscVal            0\n",
            "MoSold             0\n",
            "YrSold             0\n",
            "SaleType           1\n",
            "SaleCondition      0\n",
            "Length: 80, dtype: int64\n"
          ]
        }
      ]
    }
  ]
}